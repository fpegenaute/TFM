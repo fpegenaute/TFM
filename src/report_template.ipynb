{
 "cells": [
  {
   "cell_type": "markdown",
   "metadata": {},
   "source": [
    "# Results report"
   ]
  },
  {
   "cell_type": "code",
   "execution_count": null,
   "metadata": {
    "execution": {
     "iopub.execute_input": "2022-03-23T10:45:26.586725Z",
     "iopub.status.busy": "2022-03-23T10:45:26.585694Z",
     "iopub.status.idle": "2022-03-23T10:45:26.824159Z",
     "shell.execute_reply": "2022-03-23T10:45:26.823779Z"
    }
   },
   "outputs": [],
   "source": [
    "#Import all the needed python modules:\n",
    "\n",
    "# Data Wrangling\n",
    "import numpy as np\n",
    "import pandas as pd\n",
    "\n",
    "# Visualization\n",
    "import plotly.express as px\n",
    "import plotly.graph_objects as go\n",
    "import plotly.io as pio\n",
    "import warnings\n",
    "from plotly.subplots import make_subplots\n",
    "from PIL import Image\n",
    "\n",
    "# File string matching\n",
    "import fnmatch\n",
    "\n",
    "pio.renderers.default='notebook'"
   ]
  },
  {
   "cell_type": "markdown",
   "metadata": {},
   "source": [
    "## Summary"
   ]
  },
  {
   "cell_type": "markdown",
   "metadata": {},
   "source": [
    "This is a report summarizing your results."
   ]
  },
  {
   "cell_type": "markdown",
   "metadata": {},
   "source": [
    "## Coverage"
   ]
  },
  {
   "cell_type": "markdown",
   "metadata": {},
   "source": [
    "Here you can see which parts of your query sequence we found covered by experimentally resolved structures (in <span style=\"color:blue\">blue</span>) and covered by models (in <span style=\"color:orange\">orange</span>). If you have introduced your own structures or models, wou yill find them here too."
   ]
  },
  {
   "cell_type": "code",
   "execution_count": null,
   "metadata": {
    "code_folding": [
     0
    ],
    "execution": {
     "iopub.execute_input": "2022-03-23T10:45:26.829272Z",
     "iopub.status.busy": "2022-03-23T10:45:26.828451Z",
     "iopub.status.idle": "2022-03-23T10:45:26.990616Z",
     "shell.execute_reply": "2022-03-23T10:45:26.990350Z"
    },
    "scrolled": true
   },
   "outputs": [],
   "source": [
    "import pandas as pd\n",
    "import os\n",
    "from pathlib import Path, PurePosixPath\n",
    "\n",
    "\n",
    "\n",
    "i = 0\n",
    "df_list = []\n",
    "structure_list = []\n",
    "for child in Path('./REPORT/COVERAGE/').iterdir():\n",
    "    if child.is_file() and \"composite\" not in str(child):\n",
    "        i += 1\n",
    "        df = pd.read_csv(child)\n",
    "        df_list.append(df)\n",
    "        structure_list.append(os.path.basename(child))\n",
    "            \n",
    "fig = make_subplots(rows=i, cols=1, shared_xaxes=True)\n",
    "\n",
    "i = 1\n",
    "for df in df_list:\n",
    "    fig.append_trace(go.Scatter(\n",
    "        x=df[df.columns[0]], # ResID\n",
    "        y=df[df.columns[1]],\n",
    "        fill='tozeroy', \n",
    "        name=structure_list[i-1]\n",
    "    ), row=i, col=1)\n",
    "    i +=1\n",
    "\n",
    "fig.update_layout(height=400, width=1000, title_text=\"Coverage\")\n",
    "fig.update_yaxes(showgrid=False, range=[0,1], nticks=2)\n",
    "\n",
    "\n",
    "\n",
    "    \n",
    "    \n",
    "fig.show()"
   ]
  },
  {
   "cell_type": "markdown",
   "metadata": {},
   "source": [
    "## Hinges and flexibility"
   ]
  },
  {
   "cell_type": "markdown",
   "metadata": {},
   "source": [
    "Flexibility is an important feature of proteins, since they need to move to perform their function and interact with their substrates. In the following section, we provide you with two types of flexibility prediction: the Dynamic Flexibility Index and Hinge Prediction."
   ]
  },
  {
   "cell_type": "markdown",
   "metadata": {},
   "source": [
    "*Dynamic Flexibility Index*  \n",
    "This is per-residue index indicating the contribution of each residue to the overall flexibility of the protein. It uses a method based in an Elastic Network Model, which is a more lightweight (but less precise, obviously) alternative to Molecular Dynamics. for ore info, [here](https://www.ncbi.nlm.nih.gov/pmc/articles/PMC3673471/) is the original paper.\n",
    "\n",
    "*Hinge Prediction*  \n",
    "Hinges are the regions of the protein that allow it to move and change conformations. Using [this tool](https://academic.oup.com/bioinformaticsadvances/advance-article/doi/10.1093/bioadv/vbac007/6525212?login=true) the predicted hinge regions are showed on top of the DFI plot, with the significative ones colored in green, and  the non-significative ones in red."
   ]
  },
  {
   "cell_type": "code",
   "execution_count": null,
   "metadata": {
    "execution": {
     "iopub.execute_input": "2022-03-23T10:45:26.996288Z",
     "iopub.status.busy": "2022-03-23T10:45:26.995954Z",
     "iopub.status.idle": "2022-03-23T10:45:26.997347Z",
     "shell.execute_reply": "2022-03-23T10:45:26.997526Z"
    }
   },
   "outputs": [],
   "source": [
    "# A couple of function definitions to make things easier later\n",
    "def read_hng_files(hng_dir):\n",
    "    \"\"\"\n",
    "    Given a folder containing PACKMAN .hng files, return a dictionary with the format:\n",
    "    {filename : start:end residues}\n",
    "    \"\"\"\n",
    "    i = 0\n",
    "    hinges_dict = {}\n",
    "    for child in Path(hng_dir).iterdir():\n",
    "        if child.is_file() and fnmatch.fnmatch(child, \"*.hng\"):\n",
    "            i += 1\n",
    "            filename = os.path.basename(child)\n",
    "            hinges_domains_df = pd.read_csv(child, sep=\"\\t\", names=[\"Chain\", \"Classification\", \"Start:End\"])        \n",
    "            hinge_df = hinges_domains_df[hinges_domains_df['Classification'].str.match('^H.*')== True]\n",
    "            hinges_dict.update({filename[0:6] : hinge_df[\"Start:End\"].tolist()})\n",
    "    return hinges_dict\n",
    "\n",
    "def read_DFI_csvs(dfi_csv_dir):\n",
    "    \"\"\"\n",
    "    Given a folder containing csv files containing Dynamic Flexibility Index info, \n",
    "    return a dictionary with the format:\n",
    "    {filename : 'start:end' residues}\n",
    "    \n",
    "    Format of the csv:\n",
    "        header: Chain,ResID,pctdfi\n",
    "    Chain example:3a58_A \n",
    "    \"\"\"\n",
    "    i = 0\n",
    "    df_dict = {}\n",
    "    for child in Path(dfi_csv_dir).iterdir():\n",
    "        if child.is_file():\n",
    "            i += 1\n",
    "            df = pd.read_csv(child)\n",
    "            df_dict.update({os.path.basename(child)[0:6] : df})\n",
    "    return df_dict\n",
    "\n",
    "def read_compsite_files(composite_dir):\n",
    "    \"\"\"\n",
    "    Given a folder containing composite .csv files, return a dictionary with the format:\n",
    "    {psition : coverage (0/1)}\n",
    "    \"\"\"\n",
    "    i = 0\n",
    "    comp_dict = {}\n",
    "    for child in Path(composite_dir).iterdir():\n",
    "        if child.is_file() and fnmatch.fnmatch(child, \"*composite_coverage.csv\"):\n",
    "            i += 1\n",
    "            filename = os.path.basename(child)\n",
    "            df = pd.read_csv(child)\n",
    "            comp_dict.update({os.path.basename(child)[0:6] : df})\n",
    "    return comp_dict"
   ]
  },
  {
   "cell_type": "code",
   "execution_count": null,
   "metadata": {
    "execution": {
     "iopub.execute_input": "2022-03-23T10:45:27.002350Z",
     "iopub.status.busy": "2022-03-23T10:45:27.002025Z",
     "iopub.status.idle": "2022-03-23T10:45:27.128335Z",
     "shell.execute_reply": "2022-03-23T10:45:27.128552Z"
    },
    "scrolled": true
   },
   "outputs": [],
   "source": [
    "# Obtain  DFI profiles from CSV files\n",
    "dfi_dict = read_DFI_csvs('./REPORT/DFI/')\n",
    "        \n",
    "        \n",
    "# Obtain hinges from .hng files\n",
    "hng_dict = read_hng_files('./HINGES/')\n",
    "            \n",
    "\n",
    "fig = make_subplots(rows=len(dfi_dict.keys()), cols=1, shared_xaxes=True)\n",
    "\n",
    "i = 1\n",
    "for file in dfi_dict.keys():\n",
    "    df = dfi_dict[file]\n",
    "    fig.append_trace(go.Scatter(\n",
    "        x=df[\"ResID\"],\n",
    "        y=df[\"pctdfi\"],\n",
    "        name=structure_list[i-1]\n",
    "    ), row=i, col=1)\n",
    "    j =1\n",
    "    for hinge in hng_dict[file]:\n",
    "        fig.add_vrect(\n",
    "            x0=hinge.split(':')[0], \n",
    "            x1=hinge.split(':')[1],\n",
    "            annotation_text=f\"H{j}\", annotation_position=\"top left\",\n",
    "            fillcolor=\"#52BE80\", opacity=0.2,\n",
    "            layer=\"below\", line_width=0, \n",
    "            row=i, col=1)\n",
    "        j += 1\n",
    "    i +=1\n",
    "    fig.update_layout(height=600, width=1200, title_text=\"DFI profiles + Predicted hinges\", \n",
    "                      margin_pad=0, barmode=\"group\")\n",
    "    fig.update_yaxes(showgrid=False, range=[0,1], nticks=2)\n",
    "\n",
    "\n",
    "\n",
    "    \n",
    "fig.show()"
   ]
  },
  {
   "cell_type": "markdown",
   "metadata": {},
   "source": [
    "## Composite\n",
    "\n",
    "The program automatically generates a composite of the structures found, and an IMP topology file correspoding to it. In the figure below, the selected structures are represented in the positions they provide structure for."
   ]
  },
  {
   "cell_type": "code",
   "execution_count": null,
   "metadata": {
    "execution": {
     "iopub.execute_input": "2022-03-23T10:45:27.131526Z",
     "iopub.status.busy": "2022-03-23T10:45:27.131237Z",
     "iopub.status.idle": "2022-03-23T10:45:27.134265Z",
     "shell.execute_reply": "2022-03-23T10:45:27.134457Z"
    }
   },
   "outputs": [],
   "source": [
    "composite_dir = \"./REPORT/COVERAGE/\"\n",
    "comp_dict = read_compsite_files(composite_dir)"
   ]
  },
  {
   "cell_type": "code",
   "execution_count": null,
   "metadata": {
    "execution": {
     "iopub.execute_input": "2022-03-23T10:45:27.139517Z",
     "iopub.status.busy": "2022-03-23T10:45:27.139145Z",
     "iopub.status.idle": "2022-03-23T10:45:27.276321Z",
     "shell.execute_reply": "2022-03-23T10:45:27.276533Z"
    }
   },
   "outputs": [],
   "source": [
    "# Clear data and layout\n",
    "fig.data = []\n",
    "fig.layout = {}\n",
    "\n",
    "# Read the files\n",
    "composite_dir = \"./REPORT/COVERAGE/\"\n",
    "comp_dict = read_compsite_files(composite_dir)\n",
    "\n",
    "# Plot\n",
    "\n",
    "fig = make_subplots(rows=len(comp_dict.keys())+1, cols=1, shared_xaxes=True)\n",
    "for file in comp_dict.keys():\n",
    "    df = comp_dict[file]\n",
    "    print(len(df.columns))\n",
    "    fig = make_subplots(rows=len(df.columns)-1, cols=1, shared_xaxes=True)\n",
    "    i = 0\n",
    "    for column in df.columns:\n",
    "        if i >= 1:\n",
    "            fig.append_trace(go.Scatter(\n",
    "                x=df.iloc[:,0],\n",
    "                y=df[df.columns[i]],\n",
    "                fill='tozeroy',\n",
    "                name=str(column)\n",
    "            ), row=i, col=1)\n",
    "        i +=1\n",
    "    fig.update_layout(height=300, width=1200, title_text=\"Composite coverage\", \n",
    "                          margin_pad=0, barmode=\"overlay\")\n",
    "    fig.update_yaxes(showgrid=False, range=[0,1], nticks=2)\n",
    "fig.show()\n"
   ]
  },
  {
   "cell_type": "code",
   "execution_count": null,
   "metadata": {},
   "outputs": [],
   "source": [
    "# Collect data for the interactive Dashboard\n",
    "\n",
    "\n",
    "    \n",
    "all_filenames = []\n",
    "for df in df_list:\n",
    "    i = 0\n",
    "    for column in df.columns:\n",
    "        if i >= 1:\n",
    "            all_filenames.append(str(column)) \n",
    "        i+=1\n",
    "        \n",
    "print(all_filenames)\n"
   ]
  },
  {
   "cell_type": "code",
   "execution_count": null,
   "metadata": {
    "execution": {
     "iopub.execute_input": "2022-03-23T10:45:27.281477Z",
     "iopub.status.busy": "2022-03-23T10:45:27.281159Z",
     "iopub.status.idle": "2022-03-23T10:45:27.468986Z",
     "shell.execute_reply": "2022-03-23T10:45:27.469378Z"
    }
   },
   "outputs": [],
   "source": [
    "## DASH\n",
    "\n",
    "from jupyter_dash import JupyterDash\n",
    "\n",
    "import dash\n",
    "from dash import dcc\n",
    "from dash import html\n",
    "\n",
    "external_stylesheets = ['https://codepen.io/chriddyp/pen/bWLwgP.css']\n",
    "\n",
    "app = JupyterDash(__name__, external_stylesheets=external_stylesheets)\n",
    "app.css.config.serve_locally = True\n",
    "app.scripts.config.serve_locally = True\n",
    "\n",
    "\n",
    "app.layout = html.Div([\n",
    "    html.Div(children=[\n",
    "        html.Label('Multi-Select Custom fragments'),\n",
    "        dcc.Dropdown(all_filenames,\n",
    "                     ['Montréal', 'San Francisco'],\n",
    "                     multi=True),\n",
    "\n",
    "        html.Br(),\n",
    "        html.Label('Radio Items'),\n",
    "        dcc.RadioItems(['New York City', 'Montréal', 'San Francisco'], 'Montréal'),\n",
    "    ], style={'padding': 10, 'flex': 1}),\n",
    "\n",
    "    html.Div(children=[\n",
    "        html.Label('Checkboxes'),\n",
    "        dcc.Checklist(all_filenames,),\n",
    "\n",
    "        html.Br(),\n",
    "        html.Label('Text Input'),\n",
    "        dcc.Input(value='MTL', type='text'),\n",
    "\n",
    "        html.Br(),\n",
    "        html.Label('Slider'),\n",
    "        dcc.Slider(\n",
    "            min=0,\n",
    "            max=9,\n",
    "            marks={i: f'Label {i}' if i == 1 else str(i) for i in range(1, 6)},\n",
    "            value=5,\n",
    "        ),\n",
    "    ], style={'padding': 10, 'flex': 1})\n",
    "], style={'display': 'flex', 'flex-direction': 'row'})\n",
    "app.run_server(mode=\"inline\")\n",
    "#app.run_server(mode=\"jupyterlab\")"
   ]
  },
  {
   "cell_type": "code",
   "execution_count": null,
   "metadata": {
    "execution": {
     "iopub.execute_input": "2022-03-23T10:45:27.475410Z",
     "iopub.status.busy": "2022-03-23T10:45:27.474828Z",
     "iopub.status.idle": "2022-03-23T10:45:28.274581Z",
     "shell.execute_reply": "2022-03-23T10:45:28.274269Z"
    }
   },
   "outputs": [],
   "source": [
    "#!jupyter nbconvert --to html --no-input --no-prompt report_template.ipynb"
   ]
  },
  {
   "cell_type": "markdown",
   "metadata": {},
   "source": []
  },
  {
   "cell_type": "code",
   "execution_count": null,
   "metadata": {},
   "outputs": [],
   "source": [
    "#fuser -k 8050/tcp"
   ]
  }
 ],
 "metadata": {
  "hide_input": false,
  "kernelspec": {
   "display_name": "Python 3 (ipykernel)",
   "language": "python",
   "name": "python3"
  },
  "language_info": {
   "codemirror_mode": {
    "name": "ipython",
    "version": 3
   },
   "file_extension": ".py",
   "mimetype": "text/x-python",
   "name": "python",
   "nbconvert_exporter": "python",
   "pygments_lexer": "ipython3",
   "version": "3.9.7"
  },
  "toc": {
   "base_numbering": 1,
   "nav_menu": {
    "height": "12px",
    "width": "221px"
   },
   "number_sections": true,
   "sideBar": true,
   "skip_h1_title": false,
   "title_cell": "Table of Contents",
   "title_sidebar": "Contents",
   "toc_cell": true,
   "toc_position": {
    "height": "calc(100% - 180px)",
    "left": "10px",
    "top": "150px",
    "width": "168px"
   },
   "toc_section_display": true,
   "toc_window_display": false
  }
 },
 "nbformat": 4,
 "nbformat_minor": 4
}
