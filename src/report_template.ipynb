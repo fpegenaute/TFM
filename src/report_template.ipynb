{
 "cells": [
  {
   "cell_type": "markdown",
   "metadata": {},
   "source": [
    "# Results report"
   ]
  },
  {
   "cell_type": "code",
   "execution_count": null,
   "metadata": {},
   "outputs": [],
   "source": [
    "#Import all the needed python modules:\n",
    "\n",
    "# Data Wrangling\n",
    "import numpy as np\n",
    "import pandas as pd\n",
    "\n",
    "# Visualization\n",
    "import plotly.express as px\n",
    "import plotly.graph_objects as go\n",
    "import plotly.io as pio\n",
    "import warnings\n",
    "from plotly.subplots import make_subplots\n",
    "from PIL import Image\n",
    "\n",
    "\n",
    "pio.renderers.default='notebook'"
   ]
  },
  {
   "cell_type": "markdown",
   "metadata": {},
   "source": [
    "## Summary"
   ]
  },
  {
   "cell_type": "markdown",
   "metadata": {},
   "source": [
    "This is a report summarizing your results."
   ]
  },
  {
   "cell_type": "markdown",
   "metadata": {},
   "source": [
    "## Coverage"
   ]
  },
  {
   "cell_type": "markdown",
   "metadata": {},
   "source": [
    "Here you can see which parts of your query sequence we found covered by experimentally resolved structures (in <span style=\"color:blue\">blue</span>) and covered by models (in <span style=\"color:orange\">orange</span>). If you have introduced your own structures or models, wou yill find them here too."
   ]
  },
  {
   "cell_type": "code",
   "execution_count": null,
   "metadata": {
    "code_folding": [
     0
    ],
    "scrolled": true
   },
   "outputs": [],
   "source": [
    "import pandas as pd\n",
    "import os\n",
    "from pathlib import Path, PurePosixPath\n",
    "\n",
    "\n",
    "\n",
    "i = 0\n",
    "df_list = []\n",
    "structure_list = []\n",
    "for child in Path('./REPORT/COVERAGE/').iterdir():\n",
    "    if child.is_file():\n",
    "        i += 1\n",
    "        df = pd.read_csv(child)\n",
    "        df_list.append(df)\n",
    "        structure_list.append(os.path.basename(child))\n",
    "            \n",
    "\n",
    "fig = make_subplots(rows=i, cols=1, shared_xaxes=True)\n",
    "i = 1\n",
    "for df in df_list:\n",
    "    fig.append_trace(go.Scatter(\n",
    "        x=df[\"ResID\"],\n",
    "        y=df[\"Structure\"],\n",
    "        fill='tozeroy', \n",
    "        name=structure_list[i-1]\n",
    "    ), row=i, col=1)\n",
    "    i +=1\n",
    "\n",
    "fig.update_layout(height=400, width=1000, title_text=\"Stacked Subplots\")\n",
    "\n",
    "\n",
    "    \n",
    "    \n",
    "fig.show()"
   ]
  },
  {
   "cell_type": "markdown",
   "metadata": {},
   "source": [
    "## Hinges and flexibility"
   ]
  },
  {
   "cell_type": "markdown",
   "metadata": {},
   "source": [
    "Flexibility is an important feature of proteins, since they need to move to perform their function and interact with their substrates. In the following section, we provide you with two types of flexibility prediction: the Dynamic Flexibility Index and Hinge Prediction."
   ]
  },
  {
   "cell_type": "markdown",
   "metadata": {},
   "source": [
    "*Dynamic Flexibility Index*  \n",
    "This is per-residue index indicating the contribution of each residue to the overall flexibility of the protein. It uses a method based in an Elastic Network Model, which is a more lightweight (but less precise, obviously) alternative to Molecular Dynamics. for ore info, [here](https://www.ncbi.nlm.nih.gov/pmc/articles/PMC3673471/) is the original paper.\n",
    "\n",
    "*Hinge Prediction*  \n",
    "Hinges are the regions of the protein that allow it to move and change conformations. Using [this tool](https://academic.oup.com/bioinformaticsadvances/advance-article/doi/10.1093/bioadv/vbac007/6525212?login=true) the predicted hinge regions are showed on top of the DFI plot, with the significative ones colored in green, and  the non-significative ones in red."
   ]
  },
  {
   "cell_type": "code",
   "execution_count": null,
   "metadata": {},
   "outputs": [],
   "source": [
    "# A couple of function definitions to make things easier later\n",
    "def read_hng_files(hng_dir):\n",
    "    \"\"\"\n",
    "    Given a folder containing PACKMAN .hng files, return a dictionary with the format:\n",
    "    {filename : start:end residues}\n",
    "    \"\"\"\n",
    "    i = 0\n",
    "    hinges_dict = {}\n",
    "    for child in Path(hng_dir).iterdir():\n",
    "        if child.is_file():\n",
    "            i += 1\n",
    "            filename = os.path.basename(child)\n",
    "            hinges_domains_df = pd.read_csv(child, sep=\"\\t\", names=[\"Chain\", \"Classification\", \"Start:End\"])        \n",
    "            hinge_df = hinges_domains_df[hinges_domains_df['Classification'].str.match('^H.*')== True]\n",
    "            hinges_dict.update({filename[0:6] : hinge_df[\"Start:End\"].tolist()})\n",
    "    return hinges_dict\n",
    "\n",
    "def read_DFI_csvs(dfi_csv_dir):\n",
    "    \"\"\"\n",
    "    Given a folder containing csv files containing Dynamic Flexibility Index info, \n",
    "    return a dictionary with the format:\n",
    "    {filename : start:end residues}\n",
    "    \n",
    "    Format of the csv:\n",
    "        header: Chain,ResID,pctdfi\n",
    "    Chain example:3a58_A \n",
    "    \"\"\"\n",
    "    i = 0\n",
    "    df_dict = {}\n",
    "    for child in Path(dfi_csv_dir).iterdir():\n",
    "        if child.is_file():\n",
    "            i += 1\n",
    "            df = pd.read_csv(child)\n",
    "            df_dict.update({os.path.basename(child)[0:6] : df})\n",
    "    return df_dict\n"
   ]
  },
  {
   "cell_type": "code",
   "execution_count": null,
   "metadata": {
    "scrolled": true
   },
   "outputs": [],
   "source": [
    "# Obtain  DFI profiles from CSV files\n",
    "dfi_dict = read_DFI_csvs('./REPORT/DFI/')\n",
    "        \n",
    "        \n",
    "# Obtain hinges from .hng files\n",
    "hng_dict = read_hng_files('./HINGES/')\n",
    "            \n",
    "\n",
    "fig = make_subplots(rows=len(dfi_dict.keys()), cols=1, shared_xaxes=True)\n",
    "\n",
    "i = 1\n",
    "for file in dfi_dict.keys():\n",
    "    df = dfi_dict[file]\n",
    "    fig.append_trace(go.Scatter(\n",
    "        x=df[\"ResID\"],\n",
    "        y=df[\"pctdfi\"],\n",
    "        name=structure_list[i-1]\n",
    "    ), row=i, col=1)\n",
    "    j =1\n",
    "    for hinge in hng_dict[file]:\n",
    "        fig.add_vrect(\n",
    "            x0=hinge.split(':')[0], \n",
    "            x1=hinge.split(':')[1],\n",
    "            annotation_text=f\"H{j}\", annotation_position=\"top left\",\n",
    "            fillcolor=\"#52BE80\", opacity=0.2,\n",
    "            layer=\"below\", line_width=0, \n",
    "            row=i, col=1)\n",
    "        j += 1\n",
    "    i +=1\n",
    "    fig.update_layout(height=600, width=1200, title_text=\"Stacked Subplots\", margin_pad=0, barmode=\"group\")\n",
    "\n",
    "\n",
    "    \n",
    "fig.show()"
   ]
  },
  {
   "cell_type": "code",
   "execution_count": null,
   "metadata": {},
   "outputs": [],
   "source": [
    "%%capture\n",
    "# export this notebook as HTML\n",
    "!jupyter nbconvert --to html --no-input --no-prompt report.ipynb\n",
    "\n",
    "%reset -f"
   ]
  },
  {
   "cell_type": "markdown",
   "metadata": {},
   "source": []
  },
  {
   "cell_type": "code",
   "execution_count": null,
   "metadata": {},
   "outputs": [],
   "source": []
  }
 ],
 "metadata": {
  "hide_input": false,
  "kernelspec": {
   "display_name": "Python 3 (ipykernel)",
   "language": "python",
   "name": "python3"
  },
  "language_info": {
   "codemirror_mode": {
    "name": "ipython",
    "version": 3
   },
   "file_extension": ".py",
   "mimetype": "text/x-python",
   "name": "python",
   "nbconvert_exporter": "python",
   "pygments_lexer": "ipython3",
   "version": "3.8.10"
  },
  "toc": {
   "base_numbering": 1,
   "nav_menu": {
    "height": "12px",
    "width": "221px"
   },
   "number_sections": true,
   "sideBar": true,
   "skip_h1_title": false,
   "title_cell": "Table of Contents",
   "title_sidebar": "Contents",
   "toc_cell": true,
   "toc_position": {
    "height": "calc(100% - 180px)",
    "left": "10px",
    "top": "150px",
    "width": "168px"
   },
   "toc_section_display": true,
   "toc_window_display": false
  }
 },
 "nbformat": 4,
 "nbformat_minor": 4
}
