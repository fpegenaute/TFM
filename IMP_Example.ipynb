{
 "cells": [
  {
   "cell_type": "markdown",
   "metadata": {},
   "source": [
    "# IMP example"
   ]
  },
  {
   "cell_type": "markdown",
   "metadata": {},
   "source": [
    "#### Primer carreguem els mòduls de IMP. "
   ]
  },
  {
   "cell_type": "code",
   "execution_count": 1,
   "metadata": {},
   "outputs": [],
   "source": [
    "import os\n",
    "import sys\n",
    "import shutil\n",
    "import random\n",
    "import csv\n",
    "\n",
    "import IMP.core\n",
    "import IMP.pmi.dof\n",
    "import IMP.pmi.macros\n",
    "import IMP.pmi.restraints.basic\n",
    "import IMP.pmi.restraints.stereochemistry\n",
    "import IMP.pmi.tools\n",
    "import IMP.pmi.topology\n",
    "import IMP.pmi.output"
   ]
  },
  {
   "cell_type": "markdown",
   "metadata": {},
   "source": [
    "#### Jo utilitzo python3.7."
   ]
  },
  {
   "cell_type": "code",
   "execution_count": 2,
   "metadata": {},
   "outputs": [
    {
     "name": "stdout",
     "output_type": "stream",
     "text": [
      "3.8.10 (default, Nov 26 2021, 20:14:08) \n",
      "[GCC 9.3.0]\n"
     ]
    }
   ],
   "source": [
    "print(sys.version)"
   ]
  },
  {
   "cell_type": "code",
   "execution_count": 3,
   "metadata": {},
   "outputs": [
    {
     "name": "stdout",
     "output_type": "stream",
     "text": [
      "2.16.0\n"
     ]
    }
   ],
   "source": [
    "print(IMP.__version__)"
   ]
  },
  {
   "cell_type": "markdown",
   "metadata": {},
   "source": [
    "## Functions"
   ]
  },
  {
   "cell_type": "code",
   "execution_count": 4,
   "metadata": {},
   "outputs": [],
   "source": [
    "def create_tag_molecules(pict_bdb, pict_components, pict_chains, state_tags):\n",
    "    \"\"\"\n",
    "    Create IMP.pmi molecules using fluorophore coordinates\n",
    "    :param pict_bdb:\n",
    "    :param pict_components:\n",
    "    :param pict_chains:\n",
    "    :param state_tags:\n",
    "    :return:\n",
    "    \"\"\"\n",
    "    colors = [\"blue\", \"orange\", \"yellow\", \"pink\", \"brown\", \"purple\", \"red\", \"green\"]\n",
    "    tag_molecules = list()\n",
    "    for n in range(len(pict_components)):\n",
    "        print('PMI: setting up tag', pict_components[n])\n",
    "        molecule = state_tags.create_molecule(name=pict_components[n],\n",
    "                                              sequence=\"\",\n",
    "                                              chain_id=pict_chains[n])\n",
    "\n",
    "        atomic = molecule.add_structure(pdb_fn=pict_bdb,\n",
    "                                        chain_id=pict_chains[n],\n",
    "                                        res_range=[],  # add only specific set of residues\n",
    "                                        soft_check=True,  # warns sequence mismatches between fasta and PDB sequence\n",
    "                                        offset=0)  # to sync PDB residue numbering with FASTA numbering.\n",
    "\n",
    "        molecule.add_representation(residues=atomic,  # adding all residues of PDB to representation\n",
    "                                    bead_extra_breaks=[],  # Additional breakpoints for splitting beads.\n",
    "                                    color=colors[n],\n",
    "                                    bead_ca_centers=True,  # resolution=1 beads to be at CA centers\n",
    "                                    resolutions=[1])\n",
    "\n",
    "        tag_molecules.append(molecule)\n",
    "\n",
    "    return tag_molecules\n",
    "\n",
    "\n",
    "def get_pict_distance_restraints_dict(dr_tags_file):\n",
    "    \"\"\"\n",
    "    Return dictionary of distances between tags and termini of cryo exocyst\n",
    "    :param dr_tags_file:\n",
    "    \"\"\"\n",
    "    # Defining PICT distances (from tags to termini of subunits)\n",
    "    distances_to_tags_dict = dict()\n",
    "    with open(dr_tags_file, \"r\") as dr:\n",
    "        \"dr_file --> tag,tag_residue,protein,protein_residue,raw_distance,Added distance,Final Distance\"\n",
    "        csv_reader = csv.reader(dr, delimiter=',')  # to parse the csv file delimited with commas.\n",
    "        dr.readline()  # skip first line\n",
    "        for line in csv_reader:\n",
    "            tag = line[0]\n",
    "            protein = line[2]\n",
    "            tag_residue = int(line[1])\n",
    "            protein_residue = int(line[3])\n",
    "            chain_id = str(line[4])\n",
    "            max_distance = float(line[7])\n",
    "            raw_dist = float(line[5])\n",
    "            sd = float(line[8])\n",
    "            if raw_dist == 202:\n",
    "                distances_to_tags_dict.setdefault(\"{}_frb-{}_C\".format(tag, protein),\n",
    "                                                  [tag, protein, tag_residue, protein_residue, chain_id, max_distance,\n",
    "                                                   sd])\n",
    "\n",
    "            elif raw_dist == 110:\n",
    "                distances_to_tags_dict.setdefault(\"{}_gfp_c-{}_C\".format(tag, protein),\n",
    "                                                  [tag, protein, tag_residue, protein_residue, chain_id, max_distance,\n",
    "                                                   sd])\n",
    "\n",
    "            else:\n",
    "                distances_to_tags_dict.setdefault(\"{}_gfp_n-{}_N\".format(tag, protein),\n",
    "                                                  [tag, protein, tag_residue, protein_residue, chain_id, max_distance,\n",
    "                                                   sd])\n",
    "    return distances_to_tags_dict\n",
    "\n",
    "def set_pict_distance_restraints(distances_to_tags_dict, root_hierarchy, output_objects):\n",
    "    \"\"\"\n",
    "    Setting and adding basic Harmonic Upper Bound distance restraints from distances_to_tags\n",
    "    dictionary\n",
    "    :return: distances_to_tags_dict, dr_list, output_objects\n",
    "    \"\"\"\n",
    "    # Distance restraints to positioned tags:\n",
    "    dr_list = list()\n",
    "    for r, data in distances_to_tags_dict.items():\n",
    "        tag = data[0]\n",
    "        protein = data[1]\n",
    "        tag_rn = int(data[2])\n",
    "        protein_rn = int(data[3])\n",
    "        max_distance = float(data[5])\n",
    "        sd = float(data[6])\n",
    "        kappa = IMP.core.Harmonic_get_k_from_standard_deviation(sd)\n",
    "        dr = IMP.pmi.restraints.basic.DistanceRestraint(root_hier=root_hierarchy,\n",
    "                                                        tuple_selection1=(tag_rn, tag_rn, tag),\n",
    "                                                        tuple_selection2=(protein_rn, protein_rn, protein),\n",
    "                                                        distancemin=0,\n",
    "                                                        distancemax=max_distance,\n",
    "                                                        # kappa=kappa,\n",
    "                                                        label=\"restraint_{}\".format(r))\n",
    "        dr.add_to_model()\n",
    "        dr.evaluate()\n",
    "        dr_list.append(dr)\n",
    "        output_objects.append(dr)\n",
    "        print(\"\\nSetting distance {}\\n\".format(dr.label))\n",
    "        print(\"Max distance {}\\n\".format(max_distance))\n",
    "\n",
    "    return distances_to_tags_dict, dr_list, output_objects\n",
    "\n",
    "\n",
    "def distance_restraints_pict_cryo(dr_tags_file, root_hierarchy, output_objects):\n",
    "    # Defining PICT distances (from tags to termini of subunits)\n",
    "    distances_to_tags_dict = get_pict_distance_restraints_dict(dr_tags_file)\n",
    "\n",
    "    # Distance restraints to positioned tags:\n",
    "    return set_pict_distance_restraints(distances_to_tags_dict, root_hierarchy, output_objects)"
   ]
  },
  {
   "cell_type": "markdown",
   "metadata": {},
   "source": [
    "## Define PATHS\n",
    "\n",
    "Defineixo els paths on tinc les dades (input) i on ho vull guardar (output)"
   ]
  },
  {
   "cell_type": "code",
   "execution_count": 5,
   "metadata": {},
   "outputs": [],
   "source": [
    "# ---------------------------\n",
    "# 1. Define Input Data and Output Directories\n",
    "# ---------------------------\n",
    "data_directory = \"./test_output/SEC3/IMP/\"                             # input dir\n",
    "topology_file = data_directory + \"SEC3.topology\"           # aquí defineixo paràmetres del model\n",
    "# cryo_pdb_model = data_directory + \"5yfp.pdb\"                  # PDB cryoEM\n",
    "pict_pdb_models = \"/home/gallegolab/Desktop/IMP_tests/scripts_Altair/fluorophores_modified/\"   # Fluorophores information\n",
    "dr_tags_file = \"/home/gallegolab/Desktop/IMP_tests/scripts_Altair/distance_restraints.csv\"     # Restraints de distància en un CSV\n",
    "output_directory = \"./test_output/SEC3/IMP\"    # Output dir\n",
    "output_index = \"test_SEC3\"# sys.argv[1]  # N (number iterations )output prefix"
   ]
  },
  {
   "cell_type": "markdown",
   "metadata": {},
   "source": [
    "## Parameters\n",
    "\n",
    "Definexio els paràmetres per Monte Carlo Replica Exchange i per excluded volume i connectivity."
   ]
  },
  {
   "cell_type": "code",
   "execution_count": 6,
   "metadata": {},
   "outputs": [],
   "source": [
    "# --------------------------\n",
    "# 2. Scoring Parameters\n",
    "# --------------------------\n",
    "\n",
    "# --------------\n",
    "# ----- Sterochemistry and Physical Restraints\n",
    "ev_weight = 1.0  # Weight of excluded volume restraint\n",
    "connectivity_scale = 1.0  # weight of Connectivity restraint\n",
    "\n",
    "# --------------------\n",
    "# 3. Sampling Parameters\n",
    "# --------------------\n",
    "num_frames = 30  # int(sys.argv[3])   # Number of frames in MC run\n",
    "num_best_scoring_models = 3\n",
    "num_mc_steps = 50  # Number of MC steps per frame\n",
    "mc_temperature = 1.0  # Temperature for MC\n",
    "\n",
    "# --- Simulated Annealing (sa)\n",
    "#  - Alternates between two MC temperatures\n",
    "sim_annealing = True  # If true, run simulated annealing\n",
    "sa_min_temp_steps = 100  # Steps at min temp\n",
    "sa_max_temp_steps = 20  # Steps at max temp\n",
    "sa_temps = (1.0, 5.0)  # Sim annealing temperatures\n",
    "\n",
    "# Replica Exchange (rex)\n",
    "rex_temps = (1.0, 5.0)  # Temperature bounds for replica exchange\n"
   ]
  },
  {
   "cell_type": "markdown",
   "metadata": {},
   "source": [
    "## MODELING "
   ]
  },
  {
   "cell_type": "markdown",
   "metadata": {},
   "source": [
    "Primer definim el model i carraguem les dades des del topology file. Per mirar els settings del topology file mirar a la web https://integrativemodeling.org/2.15.0/doc/ref/classIMP_1_1pmi_1_1topology_1_1TopologyReader.html"
   ]
  },
  {
   "cell_type": "code",
   "execution_count": 7,
   "metadata": {},
   "outputs": [],
   "source": [
    "# Initialize model\n",
    "m = IMP.Model()\n",
    "# Read in the topology file --> to coarse model of exocyst\n",
    "# Specify the directory where the PDB files and fasta files\n",
    "topology = IMP.pmi.topology.TopologyReader(topology_file)\n",
    "# Use the BuildSystem macro to build states from the topology file\n",
    "bs = IMP.pmi.macros.BuildSystem(m)"
   ]
  },
  {
   "cell_type": "markdown",
   "metadata": {},
   "source": [
    "Definim les dades dels fluoròfors, els número de partícules i les seves coordenades des de els files PDB. IMP ho carrega tot en un \"state\" dins del System creat \"bs\"."
   ]
  },
  {
   "cell_type": "code",
   "execution_count": 8,
   "metadata": {},
   "outputs": [
    {
     "name": "stdout",
     "output_type": "stream",
     "text": [
      "A\n",
      "B\n",
      "C\n",
      "D\n",
      "E\n",
      "F\n",
      "G\n",
      "H\n",
      "PMI: setting up tag tag_sec3\n",
      "PMI: setting up tag tag_sec5\n",
      "PMI: setting up tag tag_sec6\n",
      "PMI: setting up tag tag_sec8\n"
     ]
    },
    {
     "name": "stderr",
     "output_type": "stream",
     "text": [
      "/usr/lib/python3.8/dist-packages/IMP/pmi/topology/__init__.py:560: StructureWarning: Substituting PDB residue type with FASTA residue type. Potentially dangerous.\n",
      "  warnings.warn(\n"
     ]
    },
    {
     "name": "stdout",
     "output_type": "stream",
     "text": [
      "PMI: setting up tag tag_sec10\n",
      "PMI: setting up tag tag_sec15\n",
      "PMI: setting up tag tag_exo70\n",
      "PMI: setting up tag tag_exo84\n"
     ]
    }
   ],
   "source": [
    "# Define tag molecules (fluorophores) as chains and component names and load state\n",
    "pict_pdb = random.choice(os.listdir(pict_pdb_models))  # get a tag model file randomly\n",
    "pict_pdb_seqs = IMP.pmi.topology.PDBSequences(m, pict_pdb_models + pict_pdb)  # using IMP.model\n",
    "pict_chains = [chain for chain in pict_pdb_seqs.sequences]\n",
    "pict_components = [\"tag_sec3\", \"tag_sec5\", \"tag_sec6\", \"tag_sec8\", \"tag_sec10\", \"tag_sec15\", \"tag_exo70\", \"tag_exo84\"]\n",
    "st_tags = bs.system.create_state()\n",
    "# Each state can be specified by a topology file.\n",
    "# Create tag molecules and load to system\n",
    "tag_molecules = create_tag_molecules(pict_pdb_models + pict_pdb, pict_components, pict_chains, st_tags)"
   ]
  },
  {
   "cell_type": "markdown",
   "metadata": {},
   "source": [
    "Ara carreguem les dades de l'exocyst des del topology file. "
   ]
  },
  {
   "cell_type": "code",
   "execution_count": 9,
   "metadata": {},
   "outputs": [
    {
     "name": "stdout",
     "output_type": "stream",
     "text": [
      "BuildSystem.add_state: setting up molecule 5lg4_B copy number 0\n"
     ]
    },
    {
     "ename": "KeyError",
     "evalue": "'input_fasta/SEC3.fasta'",
     "output_type": "error",
     "traceback": [
      "\u001b[0;31m---------------------------------------------------------------------------\u001b[0m",
      "\u001b[0;31mKeyError\u001b[0m                                  Traceback (most recent call last)",
      "Input \u001b[0;32mIn [9]\u001b[0m, in \u001b[0;36m<module>\u001b[0;34m\u001b[0m\n\u001b[0;32m----> 1\u001b[0m \u001b[43mbs\u001b[49m\u001b[38;5;241;43m.\u001b[39;49m\u001b[43madd_state\u001b[49m\u001b[43m(\u001b[49m\u001b[43mtopology\u001b[49m\u001b[43m)\u001b[49m\n\u001b[1;32m      2\u001b[0m system_molecules \u001b[38;5;241m=\u001b[39m bs\u001b[38;5;241m.\u001b[39mget_molecules()\n\u001b[1;32m      3\u001b[0m cryo_components \u001b[38;5;241m=\u001b[39m [mol[\u001b[38;5;241m1\u001b[39m][\u001b[38;5;241m0\u001b[39m] \u001b[38;5;28;01mfor\u001b[39;00m mol \u001b[38;5;129;01min\u001b[39;00m system_molecules[\u001b[38;5;241m1\u001b[39m]\u001b[38;5;241m.\u001b[39mitems()]\n",
      "File \u001b[0;32m/usr/lib/python3.8/dist-packages/IMP/pmi/macros.py:667\u001b[0m, in \u001b[0;36mBuildSystem.add_state\u001b[0;34m(self, reader, keep_chain_id, fasta_name_map, chain_ids)\u001b[0m\n\u001b[1;32m    665\u001b[0m \u001b[38;5;28;01mif\u001b[39;00m fasta_flag \u001b[38;5;129;01min\u001b[39;00m \u001b[38;5;28mself\u001b[39m\u001b[38;5;241m.\u001b[39m_alphabets:\n\u001b[1;32m    666\u001b[0m     alphabet \u001b[38;5;241m=\u001b[39m \u001b[38;5;28mself\u001b[39m\u001b[38;5;241m.\u001b[39m_alphabets[fasta_flag]\n\u001b[0;32m--> 667\u001b[0m seq \u001b[38;5;241m=\u001b[39m \u001b[43mIMP\u001b[49m\u001b[38;5;241;43m.\u001b[39;49m\u001b[43mpmi\u001b[49m\u001b[38;5;241;43m.\u001b[39;49m\u001b[43mtopology\u001b[49m\u001b[38;5;241;43m.\u001b[39;49m\u001b[43mSequences\u001b[49m\u001b[43m(\u001b[49m\n\u001b[1;32m    668\u001b[0m \u001b[43m    \u001b[49m\u001b[43mcopy\u001b[49m\u001b[43m[\u001b[49m\u001b[38;5;241;43m0\u001b[39;49m\u001b[43m]\u001b[49m\u001b[38;5;241;43m.\u001b[39;49m\u001b[43mfasta_file\u001b[49m\u001b[43m,\u001b[49m\u001b[43m \u001b[49m\u001b[43mfasta_name_map\u001b[49m\u001b[43m)\u001b[49m\u001b[43m[\u001b[49m\u001b[43mcopy\u001b[49m\u001b[43m[\u001b[49m\u001b[38;5;241;43m0\u001b[39;49m\u001b[43m]\u001b[49m\u001b[38;5;241;43m.\u001b[39;49m\u001b[43mfasta_id\u001b[49m\u001b[43m]\u001b[49m\n\u001b[1;32m    669\u001b[0m \u001b[38;5;28mprint\u001b[39m(\u001b[38;5;124m\"\u001b[39m\u001b[38;5;124mBuildSystem.add_state: molecule \u001b[39m\u001b[38;5;132;01m%s\u001b[39;00m\u001b[38;5;124m sequence has \u001b[39m\u001b[38;5;124m\"\u001b[39m\n\u001b[1;32m    670\u001b[0m       \u001b[38;5;124m\"\u001b[39m\u001b[38;5;132;01m%s\u001b[39;00m\u001b[38;5;124m residues\u001b[39m\u001b[38;5;124m\"\u001b[39m \u001b[38;5;241m%\u001b[39m (molname, \u001b[38;5;28mlen\u001b[39m(seq)))\n\u001b[1;32m    671\u001b[0m orig_mol \u001b[38;5;241m=\u001b[39m state\u001b[38;5;241m.\u001b[39mcreate_molecule(molname, seq, chain_id,\n\u001b[1;32m    672\u001b[0m                                  alphabet\u001b[38;5;241m=\u001b[39malphabet)\n",
      "File \u001b[0;32m/usr/lib/python3.8/dist-packages/IMP/pmi/topology/__init__.py:983\u001b[0m, in \u001b[0;36mSequences.__getitem__\u001b[0;34m(self, key)\u001b[0m\n\u001b[1;32m    980\u001b[0m         \u001b[38;5;28;01mraise\u001b[39;00m \u001b[38;5;167;01mIndexError\u001b[39;00m(\u001b[38;5;124m\"\u001b[39m\u001b[38;5;124mYou tried to access sequence number \u001b[39m\u001b[38;5;132;01m%d\u001b[39;00m\u001b[38;5;124m \u001b[39m\u001b[38;5;124m\"\u001b[39m\n\u001b[1;32m    981\u001b[0m                          \u001b[38;5;124m\"\u001b[39m\u001b[38;5;124mbut there\u001b[39m\u001b[38;5;124m'\u001b[39m\u001b[38;5;124ms only \u001b[39m\u001b[38;5;132;01m%d\u001b[39;00m\u001b[38;5;124m\"\u001b[39m \u001b[38;5;241m%\u001b[39m (key, \u001b[38;5;28mlen\u001b[39m(allseqs)))\n\u001b[1;32m    982\u001b[0m \u001b[38;5;28;01melse\u001b[39;00m:\n\u001b[0;32m--> 983\u001b[0m     \u001b[38;5;28;01mreturn\u001b[39;00m \u001b[38;5;28;43mself\u001b[39;49m\u001b[38;5;241;43m.\u001b[39;49m\u001b[43msequences\u001b[49m\u001b[43m[\u001b[49m\u001b[43mkey\u001b[49m\u001b[43m]\u001b[49m\n",
      "\u001b[0;31mKeyError\u001b[0m: 'input_fasta/SEC3.fasta'"
     ]
    }
   ],
   "source": [
    "bs.add_state(topology)\n",
    "system_molecules = bs.get_molecules()\n",
    "cryo_components = [mol[1][0] for mol in system_molecules[1].items()]\n",
    "print(system_molecules)"
   ]
  },
  {
   "cell_type": "markdown",
   "metadata": {},
   "source": [
    "Finalment creem el nostre sistema executant una macro de IMP:"
   ]
  },
  {
   "cell_type": "code",
   "execution_count": null,
   "metadata": {},
   "outputs": [],
   "source": [
    "# Build the system representation and degrees of freedom\n",
    "root_hierarchy, dof = bs.execute_macro(max_rb_trans=4.0,\n",
    "                                       max_rb_rot=0.3,\n",
    "                                       max_bead_trans=4.0,\n",
    "                                       max_srb_trans=4.0,\n",
    "                                       max_srb_rot=0.3)"
   ]
  },
  {
   "cell_type": "markdown",
   "metadata": {},
   "source": [
    "Com que volem que es mogui només l'exocyst (els fluorophores no es mouen) definim quines son les parts mòbils i quines no.\n",
    "\n",
    "Després agitem tot per començar desde una situació inicial random."
   ]
  },
  {
   "cell_type": "code",
   "execution_count": null,
   "metadata": {},
   "outputs": [],
   "source": [
    "# Fix tags rigid bodies but not the exocyst (the protein complex)\n",
    "fixed_beads, fixed_rbs = dof.disable_movers(tag_molecules,\n",
    "                                            [IMP.core.RigidBodyMover,\n",
    "                                             IMP.pmi.TransformMover])\n",
    "\n",
    "# Randomize the initial configuration before sampling, of only the molecules\n",
    "# we are interested in (exocyst subunits)\n",
    "IMP.pmi.tools.shuffle_configuration(root_hierarchy,\n",
    "                                    excluded_rigid_bodies=dof.get_rigid_bodies(),\n",
    "                                    max_translation=50,\n",
    "                                    verbose=False,\n",
    "                                    cutoff=5.0,\n",
    "                                    niterations=100)"
   ]
  },
  {
   "cell_type": "markdown",
   "metadata": {},
   "source": [
    "### Define Scoring Functions Components"
   ]
  },
  {
   "cell_type": "markdown",
   "metadata": {},
   "source": [
    "Ara definim les restraints que volem utilitzar. \n",
    "\n",
    "1- Restriccions de distància --> es troben a un CSV. Per utilitzar-les utilitzem Harmonic Upper Bound restraints de IMP entre partícules de IMP.\n",
    "\n",
    "2- Connectivity --> que cada molècula que introduim sigui sencera.\n",
    "\n",
    "3- Excluded Volume --> evitem clashes."
   ]
  },
  {
   "cell_type": "code",
   "execution_count": null,
   "metadata": {},
   "outputs": [],
   "source": [
    "out_objects = list()  # reporter objects (for stat files)"
   ]
  },
  {
   "cell_type": "markdown",
   "metadata": {},
   "source": [
    "### Distance Restraints"
   ]
  },
  {
   "cell_type": "code",
   "execution_count": null,
   "metadata": {},
   "outputs": [],
   "source": [
    "# Here we are defining a number of restraints on our system.\n",
    "#  For all of them we call add_to_model() so they are incorporated into scoring\n",
    "#  We also add them to the output_objects list, so they are reported in stat files\n",
    "\n",
    "# Distances restraints from fluorophores to cryo subunits\n",
    "dr_tags_dict, dr_list, output_objects = distance_restraints_pict_cryo(dr_tags_file, root_hierarchy, out_objects)\n"
   ]
  },
  {
   "cell_type": "markdown",
   "metadata": {},
   "source": [
    "### Connectivity "
   ]
  },
  {
   "cell_type": "code",
   "execution_count": null,
   "metadata": {},
   "outputs": [],
   "source": [
    "# Connectivity keeps things connected along the backbone (ignores if inside\n",
    "# same rigid body)\n",
    "all_molecules = IMP.pmi.tools.get_molecules(root_hierarchy)\n",
    "cryo_molecules = [mol for mol in all_molecules if \"tag\" not in mol.get_name()]\n",
    "cr_list = list()\n",
    "for mol in cryo_molecules:\n",
    "    mol_name = mol.get_name()\n",
    "    IMP.pmi.tools.display_bonds(mol)\n",
    "    cr = IMP.pmi.restraints.stereochemistry.ConnectivityRestraint(mol, scale=connectivity_scale)\n",
    "    cr.add_to_model()\n",
    "    cr.set_label(mol_name)\n",
    "    output_objects.append(cr)\n",
    "    cr_list.append(cr)"
   ]
  },
  {
   "cell_type": "markdown",
   "metadata": {},
   "source": [
    "### Excluded Volume"
   ]
  },
  {
   "cell_type": "code",
   "execution_count": null,
   "metadata": {},
   "outputs": [],
   "source": [
    "# Excluded Volume Restraint\n",
    "#  To speed up this expensive restraint, we evaluate it at resolution 10\n",
    "ev = IMP.pmi.restraints.stereochemistry.ExcludedVolumeSphere(included_objects=cryo_molecules,\n",
    "                                                             resolution=10)\n",
    "ev.set_weight(ev_weight)\n",
    "ev.add_to_model()\n",
    "output_objects.append(ev)"
   ]
  },
  {
   "cell_type": "code",
   "execution_count": null,
   "metadata": {},
   "outputs": [],
   "source": [
    "# Quickly move all flexible beads into place\n",
    "dof.optimize_flexible_beads(nsteps=100)"
   ]
  },
  {
   "cell_type": "markdown",
   "metadata": {},
   "source": [
    "## Sampling: Monte Carlo Replica Exchange"
   ]
  },
  {
   "cell_type": "code",
   "execution_count": null,
   "metadata": {},
   "outputs": [],
   "source": [
    "# --------------------------\n",
    "# Monte-Carlo Sampling\n",
    "# --------------------------\n",
    "\n",
    "# This object defines all components to be sampled as well as the sampling protocol\n",
    "mc1 = IMP.pmi.macros.ReplicaExchange0(m,\n",
    "                                      root_hier=root_hierarchy,\n",
    "                                      monte_carlo_sample_objects=dof.get_movers(),\n",
    "                                      output_objects=output_objects,\n",
    "                                      rmf_output_objects=output_objects,\n",
    "                                      monte_carlo_temperature=mc_temperature,\n",
    "                                      simulated_annealing=sim_annealing,\n",
    "                                      simulated_annealing_minimum_temperature=min(sa_temps),\n",
    "                                      simulated_annealing_maximum_temperature=max(sa_temps),\n",
    "                                      simulated_annealing_minimum_temperature_nframes=sa_min_temp_steps,\n",
    "                                      simulated_annealing_maximum_temperature_nframes=sa_max_temp_steps,\n",
    "                                      replica_exchange_minimum_temperature=min(rex_temps),\n",
    "                                      replica_exchange_maximum_temperature=max(rex_temps),\n",
    "                                      number_of_best_scoring_models=num_best_scoring_models,\n",
    "                                      monte_carlo_steps=num_mc_steps,\n",
    "                                      number_of_frames=num_frames,\n",
    "                                      global_output_directory=output_directory + \"_\" + str(output_index))\n",
    "\n",
    "# Start Sampling\n",
    "mc1.execute_macro()"
   ]
  },
  {
   "cell_type": "markdown",
   "metadata": {},
   "source": [
    "## output"
   ]
  },
  {
   "cell_type": "markdown",
   "metadata": {},
   "source": [
    "IMP torna com a output un directory amb:\n",
    "- stats files --> files per fer analysis\n",
    "- rmf --> amb chimera es poden veure les iteracions\n",
    "- pdbs --> s'hi troben els PDBs utilitzats per cada \"state\"\n",
    "- initial.0.rmf3 --> el frame inicial de partida abans de modelar."
   ]
  }
 ],
 "metadata": {
  "kernelspec": {
   "display_name": "Python 3 (ipykernel)",
   "language": "python",
   "name": "python3"
  },
  "language_info": {
   "codemirror_mode": {
    "name": "ipython",
    "version": 3
   },
   "file_extension": ".py",
   "mimetype": "text/x-python",
   "name": "python",
   "nbconvert_exporter": "python",
   "pygments_lexer": "ipython3",
   "version": "3.8.10"
  }
 },
 "nbformat": 4,
 "nbformat_minor": 4
}
